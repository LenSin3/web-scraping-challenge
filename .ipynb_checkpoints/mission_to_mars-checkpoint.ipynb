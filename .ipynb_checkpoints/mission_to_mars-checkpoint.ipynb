{
 "cells": [
  {
   "cell_type": "markdown",
   "metadata": {},
   "source": [
    "### Import dependencies"
   ]
  },
  {
   "cell_type": "code",
   "execution_count": 227,
   "metadata": {},
   "outputs": [],
   "source": [
    "import time\n",
    "import pandas as pd\n",
    "import numpy as np\n",
    "import requests \n",
    "import re"
   ]
  },
  {
   "cell_type": "code",
   "execution_count": 228,
   "metadata": {},
   "outputs": [],
   "source": [
    "from splinter import Browser\n",
    "from bs4 import BeautifulSoup\n",
    "from webdriver_manager.chrome import ChromeDriverManager"
   ]
  },
  {
   "cell_type": "code",
   "execution_count": 229,
   "metadata": {},
   "outputs": [],
   "source": [
    "executable_path = {'executable_path': 'chromedriver.exe'}\n",
    "browser = Browser('chrome', **executable_path, headless=False)"
   ]
  },
  {
   "cell_type": "markdown",
   "metadata": {},
   "source": [
    "## NASA Mars News"
   ]
  },
  {
   "cell_type": "code",
   "execution_count": 200,
   "metadata": {},
   "outputs": [],
   "source": [
    "url = 'https://mars.nasa.gov/news/'\n",
    "browser.visit(url)"
   ]
  },
  {
   "cell_type": "code",
   "execution_count": null,
   "metadata": {},
   "outputs": [],
   "source": [
    "# Create empty dictionary to hold scraped data\n",
    "scraped_data = {}"
   ]
  },
  {
   "cell_type": "code",
   "execution_count": 221,
   "metadata": {},
   "outputs": [
    {
     "name": "stdout",
     "output_type": "stream",
     "text": [
      "Independent Review Indicates NASA Prepared for Mars Sample Return Campaign\n",
      "NASA released an independent review report Tuesday indicating the agency is well positioned for its Mars Sample Return campaign to bring pristine samples from Mars to Earth for scientific study.\n"
     ]
    }
   ],
   "source": [
    "url = 'https://mars.nasa.gov/news/'\n",
    "browser.visit(url)\n",
    "response = requests.get(url)\n",
    "soup = BeautifulSoup(response.text,'html.parser')\n",
    "\n",
    "\n",
    "# Find all News Headlines\n",
    "\n",
    "news_title = soup.find('div', class_= \"content_title\").find('a').text.strip()\n",
    "news_p = soup.find('div', class_= \"rollover_description_inner\").text.strip()\n",
    "\n",
    "\n",
    "# Extract the first Headline and save in scraped_data \n",
    "scraped_data['news_title'] = news_title\n",
    "\n",
    "# Extract the teaser paragraph corresponding to the first headline\n",
    "scraped_data['news_p'] = news_p"
   ]
  },
  {
   "cell_type": "markdown",
   "metadata": {},
   "source": [
    "## JPL Mars Space Images - Featured Image"
   ]
  },
  {
   "cell_type": "code",
   "execution_count": 210,
   "metadata": {},
   "outputs": [
    {
     "name": "stderr",
     "output_type": "stream",
     "text": [
      "C:\\Users\\lenpk\\anaconda3\\envs\\PythonData\\lib\\site-packages\\splinter\\driver\\webdriver\\__init__.py:493: FutureWarning: browser.find_link_by_partial_text is deprecated. Use browser.links.find_by_partial_text instead.\n",
      "  FutureWarning,\n"
     ]
    }
   ],
   "source": [
    "# Images url link\n",
    "image_url = 'https://www.jpl.nasa.gov/spaceimages/?search=&category=Mars'\n",
    "browser.visit(image_url)\n",
    "\n",
    "# Create soup instance\n",
    "img_html = browser.html\n",
    "soup = BeautifulSoup(img_html, \"html.parser\")\n",
    "\n",
    "# Visit main page\n",
    "browser.click_link_by_partial_text('FULL IMAGE')\n",
    "\n",
    "time.sleep(5)\n",
    "\n",
    "# Crawl to reach link with full resolution image url\n",
    "browser.click_link_by_partial_text('more info')\n",
    "\n",
    "# Create soup instance\n",
    "new_img_html = browser.html\n",
    "new_img_soup = BeautifulSoup(new_img_html, 'html.parser')\n",
    "\n",
    "# Find contents of the landing page img tag\n",
    "first_img_url = new_img_soup.find('img', class_='main_image')\n",
    "\n",
    "# Extract the src containing the final image url\n",
    "final_img_url = first_img_url.get('src')\n",
    "\n",
    "# Join the main page url and the final page url\n",
    "featured_image_url = \"https://www.jpl.nasa.gov\" + final_img_url\n",
    "\n",
    "# Save final url in scraped_data\n",
    "scraped_data['featured_image_url'] = featured_image_url"
   ]
  },
  {
   "cell_type": "code",
   "execution_count": 211,
   "metadata": {},
   "outputs": [
    {
     "data": {
      "text/plain": [
       "'https://www.jpl.nasa.gov/spaceimages/images/largesize/PIA17838_hires.jpg'"
      ]
     },
     "execution_count": 211,
     "metadata": {},
     "output_type": "execute_result"
    }
   ],
   "source": [
    "featured_image_url"
   ]
  },
  {
   "cell_type": "markdown",
   "metadata": {},
   "source": [
    "## Mars Facts"
   ]
  },
  {
   "cell_type": "code",
   "execution_count": 212,
   "metadata": {},
   "outputs": [],
   "source": [
    "import pandas as pd"
   ]
  },
  {
   "cell_type": "code",
   "execution_count": null,
   "metadata": {},
   "outputs": [],
   "source": [
    "# Table url\n",
    "table_url = 'https://space-facts.com/mars/'\n",
    "\n",
    "# Use pandas to extract table contents\n",
    "mars_df = pd.read_html(str(table_url))[0]\n",
    "\n",
    "# Rename table headers\n",
    "mars_df.rename(columns = {0: 'Fact', 1:'Data'}, inplace=True)\n",
    "\n",
    "# Export table in html format\n",
    "mars_df_html = mars_df.to_html(index = False)\n",
    "\n",
    "# Save table in scraped_data\n",
    "scraped_data['mars_facts'] = mars_df_html"
   ]
  },
  {
   "cell_type": "markdown",
   "metadata": {},
   "source": [
    "## Mars Hemispheres"
   ]
  },
  {
   "cell_type": "code",
   "execution_count": 230,
   "metadata": {},
   "outputs": [],
   "source": [
    "mars_hem_url = 'https://astrogeology.usgs.gov/search/results?q=hemisphere+enhanced&k1=target&v1=Mars'\n",
    "mars_hem_site = browser.visit(mars_hem_url)"
   ]
  },
  {
   "cell_type": "code",
   "execution_count": 231,
   "metadata": {},
   "outputs": [
    {
     "data": {
      "text/plain": [
       "[{'title': 'Cerberus Hemisphere Enhanced',\n",
       "  'img_url': 'https://astrogeology.usgs.gov/cache/images/f5e372a36edfa389625da6d0cc25d905_cerberus_enhanced.tif_full.jpg'},\n",
       " {'title': 'Schiaparelli Hemisphere Enhanced',\n",
       "  'img_url': 'https://astrogeology.usgs.gov/cache/images/3778f7b43bbbc89d6e3cfabb3613ba93_schiaparelli_enhanced.tif_full.jpg'},\n",
       " {'title': 'Syrtis Major Hemisphere Enhanced',\n",
       "  'img_url': 'https://astrogeology.usgs.gov/cache/images/555e6403a6ddd7ba16ddb0e471cadcf7_syrtis_major_enhanced.tif_full.jpg'},\n",
       " {'title': 'Valles Marineris Hemisphere Enhanced',\n",
       "  'img_url': 'https://astrogeology.usgs.gov/cache/images/b3c7c6c9138f57b4756be9b9c43e3a48_valles_marineris_enhanced.tif_full.jpg'}]"
      ]
     },
     "execution_count": 231,
     "metadata": {},
     "output_type": "execute_result"
    }
   ],
   "source": [
    "#creating HTML object and parsing\n",
    "mars_hem_html = browser.html\n",
    "soup = BeautifulSoup(mars_hem_html, 'html.parser')\n",
    "\n",
    "# get all the info that contains the image links\n",
    "img_items = soup.find_all('div', class_='item')\n",
    "\n",
    "# Create empty list for hemisphere urls \n",
    "hemisphere_image_urls = []\n",
    "\n",
    "# Store the main_ul \n",
    "mars_hemispheres_main = 'https://astrogeology.usgs.gov'\n",
    "\n",
    "#for all the info containing the image links\n",
    "for i in img_items: \n",
    "    # Storing the title\n",
    "    title = i.find('h3').text\n",
    "    \n",
    "    # Storing the url that has full image url\n",
    "    first_img_url = i.find('a', class_='itemLink product-item')['href']\n",
    "    \n",
    "    # going to the storage url\n",
    "    browser.visit(mars_hemispheres_main + first_img_url)\n",
    "    \n",
    "    # HTML Object for full image url storage website\n",
    "    first_img_url = browser.html\n",
    "    \n",
    "    # Parsing HTML for that specific website\n",
    "    soup = BeautifulSoup( first_img_url, 'html.parser')\n",
    "    \n",
    "    # getting full image url \n",
    "    img_url = mars_hemispheres_main + soup.find('img', class_='wide-image')['src']\n",
    "    \n",
    "    # Adding to dictionary\n",
    "    hemisphere_image_urls.append({\"title\" : title, \"img_url\" : img_url})\n",
    "    \n",
    "\n",
    "# Display hemisphere_image_urls\n",
    "hemisphere_image_urls"
   ]
  },
  {
   "cell_type": "code",
   "execution_count": 151,
   "metadata": {},
   "outputs": [],
   "source": [
    "browser.quit()"
   ]
  }
 ],
 "metadata": {
  "kernelspec": {
   "display_name": "Python 3",
   "language": "python",
   "name": "python3"
  },
  "language_info": {
   "codemirror_mode": {
    "name": "ipython",
    "version": 3
   },
   "file_extension": ".py",
   "mimetype": "text/x-python",
   "name": "python",
   "nbconvert_exporter": "python",
   "pygments_lexer": "ipython3",
   "version": "3.6.10"
  }
 },
 "nbformat": 4,
 "nbformat_minor": 4
}
